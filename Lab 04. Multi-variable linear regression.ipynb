{
 "cells": [
  {
   "cell_type": "code",
   "execution_count": 1,
   "metadata": {
    "collapsed": true
   },
   "outputs": [],
   "source": [
    "import tensorflow as tf"
   ]
  },
  {
   "cell_type": "code",
   "execution_count": 2,
   "metadata": {
    "collapsed": true
   },
   "outputs": [],
   "source": [
    "x1_data = [73.,93.,89.,96.,73.]\n",
    "x2_data = [80.,88.,91.,98.,66.]\n",
    "x3_data = [75.,93.,90.,100.,70.]\n",
    "y_data = [152.,185.,180.,196.,142]"
   ]
  },
  {
   "cell_type": "code",
   "execution_count": 3,
   "metadata": {
    "collapsed": true
   },
   "outputs": [],
   "source": [
    "# placeholders for a tensor that will be always fed.\n",
    "x1 = tf.placeholder(tf.float32)\n",
    "x2 = tf.placeholder(tf.float32)\n",
    "x3 = tf.placeholder(tf.float32)\n",
    "Y = tf.placeholder(tf.float32)"
   ]
  },
  {
   "cell_type": "code",
   "execution_count": 5,
   "metadata": {},
   "outputs": [],
   "source": [
    "w1 = tf.Variable(tf.random_normal([1]), name= 'weight1')\n",
    "w2 = tf.Variable(tf.random_normal([1]), name= 'weight2')\n",
    "w3 = tf.Variable(tf.random_normal([1]), name= 'weight3')\n",
    "b = tf.Variable(tf.random_normal([1]), name= 'bias')\n",
    "# ([1]) 그냥 각각 하나의 값이라는 뜻"
   ]
  },
  {
   "cell_type": "code",
   "execution_count": 6,
   "metadata": {
    "collapsed": true
   },
   "outputs": [],
   "source": [
    "hypothesis = x1*w1 + x2*w2 + x3*w3 + b"
   ]
  },
  {
   "cell_type": "code",
   "execution_count": 7,
   "metadata": {
    "collapsed": true
   },
   "outputs": [],
   "source": [
    "# cost func\n",
    "cost = tf.reduce_mean(tf.square(hypothesis - Y))"
   ]
  },
  {
   "cell_type": "code",
   "execution_count": 8,
   "metadata": {
    "collapsed": true
   },
   "outputs": [],
   "source": [
    "# Minimize\n",
    "optimizer = tf.train.GradientDescentOptimizer(learning_rate=1e-5)\n",
    "train = optimizer.minimize(cost)"
   ]
  },
  {
   "cell_type": "code",
   "execution_count": 9,
   "metadata": {
    "collapsed": true
   },
   "outputs": [],
   "source": [
    "# Launch the graph in a session\n",
    "s = tf.Session()"
   ]
  },
  {
   "cell_type": "code",
   "execution_count": 13,
   "metadata": {
    "collapsed": true
   },
   "outputs": [],
   "source": [
    "s.run(tf.global_variables_initializer())"
   ]
  },
  {
   "cell_type": "code",
   "execution_count": 14,
   "metadata": {},
   "outputs": [
    {
     "name": "stdout",
     "output_type": "stream",
     "text": [
      "0 Cost:  4339.88 \n",
      "Prediction:\n",
      " [  91.44682312  115.72288513  111.30605316  118.66836548   91.65782166]\n",
      "100 Cost:  3.83585 \n",
      "Prediction:\n",
      " [ 149.93702698  185.9030304   180.51817322  194.03614807  145.1595459 ]\n",
      "200 Cost:  3.68504 \n",
      "Prediction:\n",
      " [ 149.9990387   185.8600769   180.53660583  194.05393982  145.09944153]\n",
      "300 Cost:  3.54202 \n",
      "Prediction:\n",
      " [ 150.05932617  185.81829834  180.55448914  194.07130432  145.0408783 ]\n",
      "400 Cost:  3.40631 \n",
      "Prediction:\n",
      " [ 150.11795044  185.77764893  180.5718689   194.08831787  144.98381042]\n",
      "500 Cost:  3.27758 \n",
      "Prediction:\n",
      " [ 150.17497253  185.7381134   180.58879089  194.10494995  144.92822266]\n",
      "600 Cost:  3.15546 \n",
      "Prediction:\n",
      " [ 150.23042297  185.69966125  180.60519409  194.12123108  144.87408447]\n",
      "700 Cost:  3.03958 \n",
      "Prediction:\n",
      " [ 150.28431702  185.66229248  180.62113953  194.13717651  144.82130432]\n",
      "800 Cost:  2.9296 \n",
      "Prediction:\n",
      " [ 150.33673096  185.62591553  180.63664246  194.15275574  144.76986694]\n",
      "900 Cost:  2.82524 \n",
      "Prediction:\n",
      " [ 150.38771057  185.59049988  180.65170288  194.16801453  144.71977234]\n",
      "1000 Cost:  2.72617 \n",
      "Prediction:\n",
      " [ 150.43727112  185.55610657  180.66630554  194.18293762  144.6709137 ]\n",
      "1100 Cost:  2.63216 \n",
      "Prediction:\n",
      " [ 150.48544312  185.52264404  180.68052673  194.1975708   144.62333679]\n",
      "1200 Cost:  2.54289 \n",
      "Prediction:\n",
      " [ 150.53230286  185.49009705  180.69432068  194.2118988   144.57696533]\n",
      "1300 Cost:  2.45817 \n",
      "Prediction:\n",
      " [ 150.57781982  185.45838928  180.70767212  194.2258606   144.53175354]\n",
      "1400 Cost:  2.37772 \n",
      "Prediction:\n",
      " [ 150.62211609  185.4276123   180.72070312  194.23959351  144.48771667]\n",
      "1500 Cost:  2.30131 \n",
      "Prediction:\n",
      " [ 150.66514587  185.39767456  180.73332214  194.2530365   144.44477844]\n",
      "1600 Cost:  2.22877 \n",
      "Prediction:\n",
      " [ 150.70701599  185.36856079  180.74560547  194.26623535  144.40298462]\n",
      "1700 Cost:  2.15986 \n",
      "Prediction:\n",
      " [ 150.74771118  185.34024048  180.75752258  194.27912903  144.36221313]\n",
      "1800 Cost:  2.09439 \n",
      "Prediction:\n",
      " [ 150.7872467   185.31271362  180.76908875  194.29176331  144.32246399]\n",
      "1900 Cost:  2.03219 \n",
      "Prediction:\n",
      " [ 150.82568359  185.28590393  180.7802887   194.30413818  144.28372192]\n",
      "2000 Cost:  1.97306 \n",
      "Prediction:\n",
      " [ 150.86305237  185.25985718  180.79119873  194.31628418  144.24594116]\n"
     ]
    }
   ],
   "source": [
    "for step in range (2001):\n",
    "    cost_val, hy_val, _ = s.run([cost, hypothesis, train],\n",
    "                               feed_dict = {x1: x1_data, x2:x2_data, x3:x3_data,Y:y_data})\n",
    "    if step % 100 == 0:\n",
    "        print(step, \"Cost: \", cost_val, \"\\nPrediction:\\n\", hy_val)"
   ]
  },
  {
   "cell_type": "markdown",
   "metadata": {},
   "source": [
    "** 점점 y_data의 152, 185, 180, 196, 142와 비슷한 수준으로 수렴하고 있음을 확인 가능 **"
   ]
  },
  {
   "cell_type": "markdown",
   "metadata": {},
   "source": [
    "-----\n",
    "### 위와 같은 방법은 더이상 사용하지 말자! 데이터가 많아지면 커버가 안됨"
   ]
  },
  {
   "cell_type": "markdown",
   "metadata": {},
   "source": [
    "# Using Matrix"
   ]
  },
  {
   "cell_type": "code",
   "execution_count": 15,
   "metadata": {
    "collapsed": true
   },
   "outputs": [],
   "source": [
    "x_data = [[73.,80.,75.], [93.,88.,93.],[89.,91.,90.],[96.,98.,100.],[73.,66.,70.]]\n",
    "y_data = [[152.], [185.],[180.],[196.],[142.]]"
   ]
  },
  {
   "cell_type": "markdown",
   "metadata": {},
   "source": [
    "x의 [x1, x2, x3] 하나의 instance에 맞는 y data를 적으므로 더 이해하기 쉽다. <br>\n",
    "e.g. [73.,80.,75.] -> [152.]"
   ]
  },
  {
   "cell_type": "code",
   "execution_count": 17,
   "metadata": {
    "collapsed": true
   },
   "outputs": [],
   "source": [
    "X = tf.placeholder(tf.float32, shape = [None, 3])\n",
    "Y = tf.placeholder(tf.float32, shape = [None, 1])"
   ]
  },
  {
   "cell_type": "markdown",
   "metadata": {},
   "source": [
    "tf.placeholder(tf.float32, shape = [None, 3])에서 <br>\n",
    "현재 예제에서는 5개이지만 장차 n개(미정)가 좋으므로 None으로 표시 <br>\n",
    "x1, x2, x3 -> 3개이므로 [None,3]으로 표시"
   ]
  },
  {
   "cell_type": "code",
   "execution_count": 18,
   "metadata": {
    "collapsed": true
   },
   "outputs": [],
   "source": [
    "W = tf.Variable(tf.random_normal([3,1]),name='weight')\n",
    "b = tf.Variable(tf.random_normal([1]),name='bias')"
   ]
  },
  {
   "cell_type": "code",
   "execution_count": 19,
   "metadata": {
    "collapsed": true
   },
   "outputs": [],
   "source": [
    "# Hypothesis\n",
    "hypothesis = tf.matmul(X,W) + b"
   ]
  },
  {
   "cell_type": "code",
   "execution_count": null,
   "metadata": {
    "collapsed": true
   },
   "outputs": [],
   "source": []
  }
 ],
 "metadata": {
  "kernelspec": {
   "display_name": "Python 3",
   "language": "python",
   "name": "python3"
  },
  "language_info": {
   "codemirror_mode": {
    "name": "ipython",
    "version": 3
   },
   "file_extension": ".py",
   "mimetype": "text/x-python",
   "name": "python",
   "nbconvert_exporter": "python",
   "pygments_lexer": "ipython3",
   "version": "3.6.1"
  }
 },
 "nbformat": 4,
 "nbformat_minor": 2
}

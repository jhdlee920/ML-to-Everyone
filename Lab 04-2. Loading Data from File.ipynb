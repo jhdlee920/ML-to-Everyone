{
 "cells": [
  {
   "cell_type": "code",
   "execution_count": 1,
   "metadata": {
    "collapsed": true
   },
   "outputs": [],
   "source": [
    "import os"
   ]
  },
  {
   "cell_type": "code",
   "execution_count": 2,
   "metadata": {},
   "outputs": [
    {
     "name": "stdout",
     "output_type": "stream",
     "text": [
      "C:\\Users\\Damian\\Dropbox\\Study\\Machine Learning\\sungkim\n"
     ]
    }
   ],
   "source": [
    "print (os.getcwd())"
   ]
  },
  {
   "cell_type": "code",
   "execution_count": 7,
   "metadata": {
    "collapsed": true
   },
   "outputs": [],
   "source": [
    "import numpy as np"
   ]
  },
  {
   "cell_type": "code",
   "execution_count": 9,
   "metadata": {},
   "outputs": [],
   "source": [
    "data = np.loadtxt('data-01-test-score.txt',delimiter=',',dtype=np.float32)"
   ]
  },
  {
   "cell_type": "code",
   "execution_count": 10,
   "metadata": {
    "collapsed": true
   },
   "outputs": [],
   "source": [
    "x_data = data[:,0:-1]\n",
    "y_data = data[:,[-1]]"
   ]
  },
  {
   "cell_type": "code",
   "execution_count": 12,
   "metadata": {},
   "outputs": [
    {
     "name": "stdout",
     "output_type": "stream",
     "text": [
      "(6, 3) [[  73.   80.   75.]\n",
      " [  93.   88.   93.]\n",
      " [  89.   91.   90.]\n",
      " [  96.   98.  100.]\n",
      " [  73.   66.   70.]\n",
      " [  53.   46.   55.]] 6\n",
      "(6, 1) [[ 152.]\n",
      " [ 185.]\n",
      " [ 180.]\n",
      " [ 196.]\n",
      " [ 142.]\n",
      " [ 101.]]\n"
     ]
    }
   ],
   "source": [
    "# Make sure the shape and data are OK\n",
    "print(x_data.shape,x_data,len(x_data))\n",
    "print(y_data.shape,y_data)"
   ]
  },
  {
   "cell_type": "markdown",
   "metadata": {},
   "source": [
    "# Indexing, Slicing, Iterating"
   ]
  },
  {
   "cell_type": "markdown",
   "metadata": {},
   "source": [
    "* Arrays can be indexed, sliced, iterated much like lists and other sequence types in Python <br>\n",
    "* As with Python lists, slicing in NumPy can be accomplished with the colon(:) syntax<br>\n",
    "* Colon instances(:) can be replaced with dots(...)"
   ]
  },
  {
   "cell_type": "code",
   "execution_count": 14,
   "metadata": {},
   "outputs": [
    {
     "name": "stdout",
     "output_type": "stream",
     "text": [
      "[1 2 3 4 5]\n"
     ]
    }
   ],
   "source": [
    "a = np.array([1,2,3,4,5])\n",
    "print(a)"
   ]
  },
  {
   "cell_type": "code",
   "execution_count": 15,
   "metadata": {},
   "outputs": [
    {
     "data": {
      "text/plain": [
       "array([2, 3])"
      ]
     },
     "execution_count": 15,
     "metadata": {},
     "output_type": "execute_result"
    }
   ],
   "source": [
    "a[1:3]"
   ]
  },
  {
   "cell_type": "code",
   "execution_count": 16,
   "metadata": {},
   "outputs": [
    {
     "data": {
      "text/plain": [
       "5"
      ]
     },
     "execution_count": 16,
     "metadata": {},
     "output_type": "execute_result"
    }
   ],
   "source": [
    "a[-1]"
   ]
  },
  {
   "cell_type": "code",
   "execution_count": 18,
   "metadata": {},
   "outputs": [
    {
     "data": {
      "text/plain": [
       "array([9, 9, 3, 4, 5])"
      ]
     },
     "execution_count": 18,
     "metadata": {},
     "output_type": "execute_result"
    }
   ],
   "source": [
    "a[0:2] = 9\n",
    "a"
   ]
  },
  {
   "cell_type": "code",
   "execution_count": 20,
   "metadata": {},
   "outputs": [
    {
     "data": {
      "text/plain": [
       "array([[ 1,  2,  3,  4],\n",
       "       [ 5,  6,  7,  8],\n",
       "       [ 9, 10, 11, 12]])"
      ]
     },
     "execution_count": 20,
     "metadata": {},
     "output_type": "execute_result"
    }
   ],
   "source": [
    "b = np.array([[1,2,3,4],[5,6,7,8],[9,10,11,12]])\n",
    "b"
   ]
  },
  {
   "cell_type": "code",
   "execution_count": 21,
   "metadata": {},
   "outputs": [
    {
     "data": {
      "text/plain": [
       "array([ 2,  6, 10])"
      ]
     },
     "execution_count": 21,
     "metadata": {},
     "output_type": "execute_result"
    }
   ],
   "source": [
    "b[:,1]"
   ]
  },
  {
   "cell_type": "code",
   "execution_count": 22,
   "metadata": {},
   "outputs": [
    {
     "data": {
      "text/plain": [
       "array([ 9, 10, 11, 12])"
      ]
     },
     "execution_count": 22,
     "metadata": {},
     "output_type": "execute_result"
    }
   ],
   "source": [
    "b[-1]"
   ]
  },
  {
   "cell_type": "code",
   "execution_count": 23,
   "metadata": {},
   "outputs": [
    {
     "data": {
      "text/plain": [
       "array([ 9, 10, 11, 12])"
      ]
     },
     "execution_count": 23,
     "metadata": {},
     "output_type": "execute_result"
    }
   ],
   "source": [
    "b[-1,:]"
   ]
  },
  {
   "cell_type": "code",
   "execution_count": 24,
   "metadata": {},
   "outputs": [
    {
     "data": {
      "text/plain": [
       "array([ 9, 10, 11, 12])"
      ]
     },
     "execution_count": 24,
     "metadata": {},
     "output_type": "execute_result"
    }
   ],
   "source": [
    "b[-1,...]"
   ]
  },
  {
   "cell_type": "code",
   "execution_count": 25,
   "metadata": {},
   "outputs": [
    {
     "data": {
      "text/plain": [
       "array([[1, 2, 3, 4],\n",
       "       [5, 6, 7, 8]])"
      ]
     },
     "execution_count": 25,
     "metadata": {},
     "output_type": "execute_result"
    }
   ],
   "source": [
    "b[0:2,:]"
   ]
  },
  {
   "cell_type": "markdown",
   "metadata": {},
   "source": [
    "# 적용"
   ]
  },
  {
   "cell_type": "code",
   "execution_count": 26,
   "metadata": {
    "collapsed": true
   },
   "outputs": [],
   "source": [
    "import tensorflow as tf\n",
    "import numpy as np"
   ]
  },
  {
   "cell_type": "code",
   "execution_count": 27,
   "metadata": {
    "collapsed": true
   },
   "outputs": [],
   "source": [
    "tf.set_random_seed(7777) # for reproducibility"
   ]
  },
  {
   "cell_type": "code",
   "execution_count": 32,
   "metadata": {
    "collapsed": true
   },
   "outputs": [],
   "source": [
    "data = np.loadtxt('data-01-test-score.txt',delimiter=',',dtype=np.int32)"
   ]
  },
  {
   "cell_type": "code",
   "execution_count": 33,
   "metadata": {
    "collapsed": true
   },
   "outputs": [],
   "source": [
    "x_data = data[:,0:-1]\n",
    "y_data = data[:,[-1]]"
   ]
  },
  {
   "cell_type": "code",
   "execution_count": 34,
   "metadata": {},
   "outputs": [
    {
     "name": "stdout",
     "output_type": "stream",
     "text": [
      "(6, 3) [[ 73  80  75]\n",
      " [ 93  88  93]\n",
      " [ 89  91  90]\n",
      " [ 96  98 100]\n",
      " [ 73  66  70]\n",
      " [ 53  46  55]] 6\n",
      "(6, 1) [[152]\n",
      " [185]\n",
      " [180]\n",
      " [196]\n",
      " [142]\n",
      " [101]]\n"
     ]
    }
   ],
   "source": [
    "# Make sure the shape and data are OK\n",
    "print(x_data.shape,x_data,len(x_data))\n",
    "print(y_data.shape,y_data)"
   ]
  },
  {
   "cell_type": "code",
   "execution_count": 36,
   "metadata": {},
   "outputs": [],
   "source": [
    "# Placeholders for a tensor that will be always fed\n",
    "X = tf.placeholder(tf.float32, shape = [None,3])\n",
    "Y = tf.placeholder(tf.float32, shape = [None,1])"
   ]
  },
  {
   "cell_type": "code",
   "execution_count": 37,
   "metadata": {
    "collapsed": true
   },
   "outputs": [],
   "source": [
    "W = tf.Variable(tf.random_normal([3,1]),name='weight')\n",
    "b = tf.Variable(tf.random_normal([1]),name='bias')"
   ]
  },
  {
   "cell_type": "code",
   "execution_count": 38,
   "metadata": {
    "collapsed": true
   },
   "outputs": [],
   "source": [
    "# Hypothesis\n",
    "hypothesis = tf.matmul(X,W) + b"
   ]
  },
  {
   "cell_type": "code",
   "execution_count": 39,
   "metadata": {
    "collapsed": true
   },
   "outputs": [],
   "source": [
    "# Simplified cost function\n",
    "cost = tf.reduce_mean(tf.square(hypothesis - Y))"
   ]
  },
  {
   "cell_type": "code",
   "execution_count": 40,
   "metadata": {
    "collapsed": true
   },
   "outputs": [],
   "source": [
    "# Minimize\n",
    "optimizer = tf.train.GradientDescentOptimizer(learning_rate=1e-5)\n",
    "train = optimizer.minimize(cost)"
   ]
  },
  {
   "cell_type": "code",
   "execution_count": 41,
   "metadata": {
    "collapsed": true
   },
   "outputs": [],
   "source": [
    "# session\n",
    "s = tf.Session()"
   ]
  },
  {
   "cell_type": "code",
   "execution_count": 42,
   "metadata": {
    "collapsed": true
   },
   "outputs": [],
   "source": [
    "s.run(tf.global_variables_initializer())"
   ]
  },
  {
   "cell_type": "code",
   "execution_count": 43,
   "metadata": {},
   "outputs": [
    {
     "name": "stdout",
     "output_type": "stream",
     "text": [
      "0 Cost:  14671.5 \n",
      "Prediction:\n",
      " [[ 265.24472046]\n",
      " [ 320.85095215]\n",
      " [ 315.17233276]\n",
      " [ 342.38830566]\n",
      " [ 245.87657166]\n",
      " [ 180.10481262]]\n",
      "100 Cost:  1.05323 \n",
      "Prediction:\n",
      " [[ 151.57717896]\n",
      " [ 184.15713501]\n",
      " [ 180.52482605]\n",
      " [ 195.74691772]\n",
      " [ 141.60638428]\n",
      " [ 103.22164917]]\n",
      "200 Cost:  1.03972 \n",
      "Prediction:\n",
      " [[ 151.59738159]\n",
      " [ 184.14807129]\n",
      " [ 180.53367615]\n",
      " [ 195.74977112]\n",
      " [ 141.59672546]\n",
      " [ 103.20008087]]\n",
      "300 Cost:  1.02694 \n",
      "Prediction:\n",
      " [[ 151.6169281 ]\n",
      " [ 184.139328  ]\n",
      " [ 180.54225159]\n",
      " [ 195.75245667]\n",
      " [ 141.58746338]\n",
      " [ 103.17913818]]\n",
      "400 Cost:  1.01483 \n",
      "Prediction:\n",
      " [[ 151.63583374]\n",
      " [ 184.13090515]\n",
      " [ 180.55055237]\n",
      " [ 195.75498962]\n",
      " [ 141.57861328]\n",
      " [ 103.15878296]]\n",
      "500 Cost:  1.00338 \n",
      "Prediction:\n",
      " [[ 151.65414429]\n",
      " [ 184.12277222]\n",
      " [ 180.55862427]\n",
      " [ 195.75735474]\n",
      " [ 141.57015991]\n",
      " [ 103.13902283]]\n",
      "600 Cost:  0.99252 \n",
      "Prediction:\n",
      " [[ 151.67185974]\n",
      " [ 184.11489868]\n",
      " [ 180.56642151]\n",
      " [ 195.75956726]\n",
      " [ 141.5620575 ]\n",
      " [ 103.11981201]]\n",
      "700 Cost:  0.982242 \n",
      "Prediction:\n",
      " [[ 151.68899536]\n",
      " [ 184.10731506]\n",
      " [ 180.57402039]\n",
      " [ 195.76164246]\n",
      " [ 141.55432129]\n",
      " [ 103.10116577]]\n",
      "800 Cost:  0.972478 \n",
      "Prediction:\n",
      " [[ 151.70559692]\n",
      " [ 184.10003662]\n",
      " [ 180.58140564]\n",
      " [ 195.76358032]\n",
      " [ 141.54695129]\n",
      " [ 103.08304596]]\n",
      "900 Cost:  0.963221 \n",
      "Prediction:\n",
      " [[ 151.72164917]\n",
      " [ 184.09295654]\n",
      " [ 180.58851624]\n",
      " [ 195.76538086]\n",
      " [ 141.53990173]\n",
      " [ 103.06543732]]\n",
      "1000 Cost:  0.954434 \n",
      "Prediction:\n",
      " [[ 151.73718262]\n",
      " [ 184.08615112]\n",
      " [ 180.59545898]\n",
      " [ 195.76705933]\n",
      " [ 141.53318787]\n",
      " [ 103.04833221]]\n",
      "1100 Cost:  0.946076 \n",
      "Prediction:\n",
      " [[ 151.75222778]\n",
      " [ 184.0796051 ]\n",
      " [ 180.60220337]\n",
      " [ 195.76860046]\n",
      " [ 141.52677917]\n",
      " [ 103.03170013]]\n",
      "1200 Cost:  0.938118 \n",
      "Prediction:\n",
      " [[ 151.76678467]\n",
      " [ 184.07330322]\n",
      " [ 180.60873413]\n",
      " [ 195.77003479]\n",
      " [ 141.52069092]\n",
      " [ 103.01553345]]\n",
      "1300 Cost:  0.930564 \n",
      "Prediction:\n",
      " [[ 151.78086853]\n",
      " [ 184.06718445]\n",
      " [ 180.61508179]\n",
      " [ 195.77131653]\n",
      " [ 141.51489258]\n",
      " [ 102.99981689]]\n",
      "1400 Cost:  0.923358 \n",
      "Prediction:\n",
      " [[ 151.79449463]\n",
      " [ 184.06132507]\n",
      " [ 180.62123108]\n",
      " [ 195.77252197]\n",
      " [ 141.5093689 ]\n",
      " [ 102.98454285]]\n",
      "1500 Cost:  0.916499 \n",
      "Prediction:\n",
      " [[ 151.80767822]\n",
      " [ 184.05563354]\n",
      " [ 180.62719727]\n",
      " [ 195.77359009]\n",
      " [ 141.50408936]\n",
      " [ 102.96967316]]\n",
      "1600 Cost:  0.909956 \n",
      "Prediction:\n",
      " [[ 151.82046509]\n",
      " [ 184.0501709 ]\n",
      " [ 180.63301086]\n",
      " [ 195.77458191]\n",
      " [ 141.49911499]\n",
      " [ 102.95523071]]\n",
      "1700 Cost:  0.903701 \n",
      "Prediction:\n",
      " [[ 151.83282471]\n",
      " [ 184.04492188]\n",
      " [ 180.63864136]\n",
      " [ 195.77545166]\n",
      " [ 141.49440002]\n",
      " [ 102.94117737]]\n",
      "1800 Cost:  0.897734 \n",
      "Prediction:\n",
      " [[ 151.8447876 ]\n",
      " [ 184.0398407 ]\n",
      " [ 180.644104  ]\n",
      " [ 195.77622986]\n",
      " [ 141.48991394]\n",
      " [ 102.92750549]]\n",
      "1900 Cost:  0.892033 \n",
      "Prediction:\n",
      " [[ 151.85635376]\n",
      " [ 184.03494263]\n",
      " [ 180.64942932]\n",
      " [ 195.77690125]\n",
      " [ 141.485672  ]\n",
      " [ 102.91419983]]\n",
      "2000 Cost:  0.886578 \n",
      "Prediction:\n",
      " [[ 151.86756897]\n",
      " [ 184.03022766]\n",
      " [ 180.65458679]\n",
      " [ 195.77749634]\n",
      " [ 141.48167419]\n",
      " [ 102.90126801]]\n"
     ]
    }
   ],
   "source": [
    "for step in range (2001):\n",
    "    cost_val, hy_val, _ = s.run(\n",
    "        [cost, hypothesis, train],\n",
    "        feed_dict={X:x_data, Y:y_data})\n",
    "    if step % 100 ==0:\n",
    "        print(step, \"Cost: \",cost_val,\n",
    "             \"\\nPrediction:\\n\",hy_val)"
   ]
  },
  {
   "cell_type": "code",
   "execution_count": 45,
   "metadata": {},
   "outputs": [
    {
     "name": "stdout",
     "output_type": "stream",
     "text": [
      "Your score will be  [[ 182.96908569]]\n",
      "Other scores will be  [[ 143.90979004]\n",
      " [ 183.87869263]]\n"
     ]
    }
   ],
   "source": [
    "# Ask My Score\n",
    "print(\"Your score will be \", s.run(hypothesis,\n",
    "                                  feed_dict={X:[[100,70,101]]}))\n",
    "print(\"Other scores will be \",s.run(hypothesis,\n",
    "                                   feed_dict={X:[[60,70,110],[90,100,80]]}))"
   ]
  },
  {
   "cell_type": "markdown",
   "metadata": {},
   "source": [
    "# Queue Runner 이용"
   ]
  },
  {
   "cell_type": "markdown",
   "metadata": {},
   "source": [
    "여러 개의 파일을 Queue에 쌓고 Reader로 읽어와서 decode하고 Example Queue에 다시 쌓는다."
   ]
  },
  {
   "cell_type": "markdown",
   "metadata": {},
   "source": [
    "1_**파일 불러오기**"
   ]
  },
  {
   "cell_type": "markdown",
   "metadata": {},
   "source": [
    "``` filename_queue =tf.train.string_input_producer(\n",
    "    ['data-01-test-score.csv', 'data-02-test-score.csv', ...],\n",
    "    shuffle=False, name='filename_queue') ```\n"
   ]
  },
  {
   "cell_type": "markdown",
   "metadata": {},
   "source": [
    "2_** Reader 정의**"
   ]
  },
  {
   "cell_type": "markdown",
   "metadata": {},
   "source": [
    "~~~\n",
    "reader=tf.TextLineReader()\n",
    "key, value = reader.read(filename_queue) \n",
    "~~~"
   ]
  },
  {
   "cell_type": "markdown",
   "metadata": {},
   "source": [
    "* text파일을 읽어올 때 일반적으로 사용"
   ]
  },
  {
   "cell_type": "markdown",
   "metadata": {},
   "source": [
    "3_** Value의 Parsing**"
   ]
  },
  {
   "cell_type": "markdown",
   "metadata": {},
   "source": [
    "```\n",
    "record_defaults=[[0.],[0.],[0.],[0.]]\n",
    "xy=tf.decode_csv(value, record_defaults=record_defaults)```"
   ]
  },
  {
   "cell_type": "markdown",
   "metadata": {},
   "source": [
    "- 각각에 필드에 데이터 타입에 대해 정해줄 수가 있음 <br>\n",
    " 여기서는 float이라 모두 [0.]으로 정의"
   ]
  },
  {
   "cell_type": "markdown",
   "metadata": {},
   "source": [
    "4_**tf.train.batch**"
   ]
  },
  {
   "cell_type": "markdown",
   "metadata": {},
   "source": [
    "batch라는 것으로 읽어오면 일종의 펌프같은 역할을 해줌"
   ]
  },
  {
   "cell_type": "markdown",
   "metadata": {},
   "source": [
    "```\n",
    "# collect batches of csv in\n",
    "train_x_batch, train_y_batch = \\\n",
    "    tf.train.batch([xy[0:,-1],xy[-1:]], batch_size =10)\n",
    "sess = tf.Session()\n",
    "```"
   ]
  },
  {
   "cell_type": "markdown",
   "metadata": {},
   "source": [
    "batch_size는 한 번에 몇 개 가져올 것인가를 묻는 것"
   ]
  },
  {
   "cell_type": "markdown",
   "metadata": {},
   "source": [
    "5_ **통상적인 batch 나머지 부분**"
   ]
  },
  {
   "cell_type": "markdown",
   "metadata": {},
   "source": [
    "```\n",
    "# Start populating the filename queue.\n",
    "coord=tf.train.Coordinator()\n",
    "threads = tf.train.start_queue_runners(sess=sess,coord=coord)\n",
    "\n",
    "for step in range(2001):\n",
    "    x_batch, y_batch = sess.run([train_x_batch, train_y_batch])\n",
    "    ...\n",
    "   \n",
    "   coord.request_stop()\n",
    "   coord.join(threads)\n",
    "   ```"
   ]
  },
  {
   "cell_type": "markdown",
   "metadata": {},
   "source": [
    "- 추후에 ... 부분에서 feed_dict 같은 방법을 사용해서 x_batch, y_batch로 값을 넘겨주면 된다."
   ]
  },
  {
   "cell_type": "code",
   "execution_count": null,
   "metadata": {
    "collapsed": true
   },
   "outputs": [],
   "source": []
  }
 ],
 "metadata": {
  "kernelspec": {
   "display_name": "Python 3",
   "language": "python",
   "name": "python3"
  },
  "language_info": {
   "codemirror_mode": {
    "name": "ipython",
    "version": 3
   },
   "file_extension": ".py",
   "mimetype": "text/x-python",
   "name": "python",
   "nbconvert_exporter": "python",
   "pygments_lexer": "ipython3",
   "version": "3.6.1"
  }
 },
 "nbformat": 4,
 "nbformat_minor": 2
}
